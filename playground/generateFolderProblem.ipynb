{
 "cells": [
  {
   "cell_type": "code",
   "execution_count": 3,
   "metadata": {},
   "outputs": [],
   "source": [
    "import os\n",
    "import shutil"
   ]
  },
  {
   "cell_type": "code",
   "execution_count": 4,
   "metadata": {},
   "outputs": [],
   "source": [
    "folder_path = 'C:\\\\Users\\\\PC\\\\Documents\\\\data&algo by k1ew'\n",
    "folder = os.listdir(folder_path)"
   ]
  },
  {
   "cell_type": "code",
   "execution_count": 7,
   "metadata": {},
   "outputs": [],
   "source": [
    "#template code\n",
    "source_file = 'D:\\\\CEDT\\\\CEDT-Class\\\\Data Algorithm\\\\templatecode.cpp'\n",
    "#\n",
    "for i in folder:\n",
    "    tmp = i.split('.')\n",
    "    if len(tmp)==2 and tmp[1]=='pdf':\n",
    "        #create folder\n",
    "        # create_path = 'D:\\\\CEDT\\\\CEDT-Class\\\\Data Algorithm\\\\'+tmp[0]\n",
    "        # os.makedirs(create_path, exist_ok=True)\n",
    "\n",
    "        # create cpp file\n",
    "        # create_file_path = os.path.join(create_path, tmp[0]+'.cpp')\n",
    "        # with open(create_file_path,'w') as file:\n",
    "        #     file.write('')\n",
    "        \n",
    "\n",
    "        #paste template code to new file\n",
    "        # destination_file = 'D:\\\\CEDT\\\\CEDT-Class\\\\Data Algorithm\\\\'+tmp[0]+'\\\\'+tmp[0]+'.cpp'\n",
    "        # shutil.copy(source_file, destination_file)\n",
    "\n",
    "        #copy pdf to each folder\n",
    "        # source_pdf = 'C:\\\\Users\\\\PC\\\\Documents\\\\data&algo by k1ew\\\\'+tmp[0]+'.pdf'\n",
    "        # destination_pdf = 'D:\\\\CEDT\\\\CEDT-Class\\\\Data Algorithm\\\\'+tmp[0]\n",
    "        # shutil.copy(source_pdf, destination_pdf)"
   ]
  }
 ],
 "metadata": {
  "kernelspec": {
   "display_name": "Python 3",
   "language": "python",
   "name": "python3"
  },
  "language_info": {
   "codemirror_mode": {
    "name": "ipython",
    "version": 3
   },
   "file_extension": ".py",
   "mimetype": "text/x-python",
   "name": "python",
   "nbconvert_exporter": "python",
   "pygments_lexer": "ipython3",
   "version": "3.12.4"
  }
 },
 "nbformat": 4,
 "nbformat_minor": 2
}
