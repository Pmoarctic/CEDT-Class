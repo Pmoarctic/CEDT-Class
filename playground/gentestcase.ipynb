{
 "cells": [
  {
   "cell_type": "code",
   "execution_count": 13,
   "metadata": {},
   "outputs": [],
   "source": [
    "import os\n",
    "import random\n",
    "import subprocess"
   ]
  },
  {
   "cell_type": "code",
   "execution_count": 51,
   "metadata": {},
   "outputs": [],
   "source": [
    "item = str(input());"
   ]
  },
  {
   "cell_type": "code",
   "execution_count": 53,
   "metadata": {},
   "outputs": [],
   "source": [
    "def create_test_folders(item, num_test_cases=10):\n",
    "    # Create the base folder\n",
    "    os.makedirs(item, exist_ok=True)\n",
    "    \n",
    "    # Create the \"input\" folder inside the base folder\n",
    "    input_folder = os.path.join(item, \"input\")\n",
    "    os.makedirs(input_folder, exist_ok=True)\n",
    "    \n",
    "    # Create 10 test case files inside the \"input\" folder\n",
    "    for i in range(1, num_test_cases + 1):\n",
    "        testcase_file = os.path.join(input_folder, f\"testcase{i}.txt\")\n",
    "        with open(testcase_file, 'w') as f:\n",
    "            ################################\n",
    "            n = 1000000\n",
    "            f.write(f\"{n}\\n\");\n",
    "\n",
    "            for i in range(n):\n",
    "                item = random.randint(0,1000000000)\n",
    "                f.write(f\"{item}\\n\")\n",
    "            ####################################\n",
    "            #f.write(f\"This is test case {i}\")  # Optionally, add some content\n",
    "    \n",
    "    print(f\"Created {num_test_cases} test case files inside {input_folder}\")"
   ]
  },
  {
   "cell_type": "code",
   "execution_count": 55,
   "metadata": {},
   "outputs": [],
   "source": [
    "def run_cpp_with_test_cases(exe_file,item, num_test_cases=10):\n",
    "    # Ensure the output folder exists\n",
    "    output_folder = os.path.join(item, \"output\")\n",
    "    input_folder = os.path.join(item, \"input\")\n",
    "    os.makedirs(output_folder, exist_ok=True)\n",
    "    \n",
    "    # Loop through each test case\n",
    "    for i in range(1, num_test_cases + 1):\n",
    "        input_file = os.path.join(input_folder, f\"testcase{i}.txt\")\n",
    "        output_file = os.path.join(output_folder, f\"output{i}.txt\")\n",
    "        \n",
    "        # Run the C++ program with redirected input and output\n",
    "        with open(output_file, 'w') as out_f:\n",
    "            subprocess.run([item], stdin=open(input_file, 'r'), stdout=out_f)\n",
    "    \n",
    "    print(f\"Processed {num_test_cases} test cases and saved output to {output_folder}\")"
   ]
  },
  {
   "cell_type": "code",
   "execution_count": 54,
   "metadata": {},
   "outputs": [
    {
     "name": "stdout",
     "output_type": "stream",
     "text": [
      "Created 10 test case files inside majorityRule\\input\n"
     ]
    }
   ],
   "source": [
    "create_test_folders(item)"
   ]
  },
  {
   "cell_type": "code",
   "execution_count": 57,
   "metadata": {},
   "outputs": [
    {
     "name": "stdout",
     "output_type": "stream",
     "text": [
      "Processed 10 test cases and saved output to majorityRule\\output\n"
     ]
    }
   ],
   "source": [
    "\n",
    "exe_file = \"./{item}.exe\"; \n",
    "run_cpp_with_test_cases(exe_file,item)"
   ]
  }
 ],
 "metadata": {
  "kernelspec": {
   "display_name": "Python 3",
   "language": "python",
   "name": "python3"
  },
  "language_info": {
   "codemirror_mode": {
    "name": "ipython",
    "version": 3
   },
   "file_extension": ".py",
   "mimetype": "text/x-python",
   "name": "python",
   "nbconvert_exporter": "python",
   "pygments_lexer": "ipython3",
   "version": "3.12.4"
  }
 },
 "nbformat": 4,
 "nbformat_minor": 2
}
